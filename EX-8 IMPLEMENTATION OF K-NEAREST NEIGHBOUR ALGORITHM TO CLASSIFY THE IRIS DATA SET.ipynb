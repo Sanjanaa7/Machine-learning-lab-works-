{
 "cells": [
  {
   "cell_type": "code",
   "execution_count": 1,
   "id": "02f05471-9fa1-4df9-a1b4-4b6afd7fa6c9",
   "metadata": {},
   "outputs": [
    {
     "name": "stdout",
     "output_type": "stream",
     "text": [
      "TARGET: 2 PREDICTED: [virginica]\n",
      "TARGET: 1 PREDICTED: [versicolor]\n",
      "TARGET: 0 PREDICTED: [setosa]\n",
      "TARGET: 2 PREDICTED: [virginica]\n",
      "TARGET: 0 PREDICTED: [setosa]\n",
      "TARGET: 2 PREDICTED: [virginica]\n",
      "TARGET: 0 PREDICTED: [setosa]\n",
      "TARGET: 1 PREDICTED: [versicolor]\n",
      "TARGET: 1 PREDICTED: [versicolor]\n",
      "TARGET: 1 PREDICTED: [versicolor]\n",
      "TARGET: 2 PREDICTED: [virginica]\n",
      "TARGET: 1 PREDICTED: [versicolor]\n",
      "TARGET: 1 PREDICTED: [versicolor]\n",
      "TARGET: 1 PREDICTED: [versicolor]\n",
      "TARGET: 1 PREDICTED: [versicolor]\n",
      "TARGET: 0 PREDICTED: [setosa]\n",
      "TARGET: 1 PREDICTED: [versicolor]\n",
      "TARGET: 1 PREDICTED: [versicolor]\n",
      "TARGET: 0 PREDICTED: [setosa]\n",
      "TARGET: 0 PREDICTED: [setosa]\n",
      "TARGET: 2 PREDICTED: [virginica]\n",
      "TARGET: 1 PREDICTED: [versicolor]\n",
      "TARGET: 0 PREDICTED: [setosa]\n",
      "TARGET: 0 PREDICTED: [setosa]\n",
      "TARGET: 2 PREDICTED: [virginica]\n",
      "TARGET: 0 PREDICTED: [setosa]\n",
      "TARGET: 0 PREDICTED: [setosa]\n",
      "TARGET: 1 PREDICTED: [versicolor]\n",
      "TARGET: 1 PREDICTED: [versicolor]\n",
      "TARGET: 0 PREDICTED: [setosa]\n",
      "TARGET: 2 PREDICTED: [virginica]\n",
      "TARGET: 1 PREDICTED: [versicolor]\n",
      "TARGET: 0 PREDICTED: [setosa]\n",
      "TARGET: 2 PREDICTED: [virginica]\n",
      "TARGET: 2 PREDICTED: [virginica]\n",
      "TARGET: 1 PREDICTED: [versicolor]\n",
      "TARGET: 0 PREDICTED: [setosa]\n",
      "TARGET: 1 PREDICTED: [virginica]\n"
     ]
    }
   ],
   "source": [
    "from sklearn.datasets import load_iris\n",
    "from sklearn.neighbors import KNeighborsClassifier\n",
    "from sklearn.model_selection import train_test_split\n",
    "import numpy as np\n",
    "\n",
    "# Load the dataset\n",
    "dataset = load_iris()\n",
    "\n",
    "# Split data into training and testing sets\n",
    "X_train, X_test, y_train, y_test = train_test_split(dataset[\"data\"], dataset[\"target\"], random_state=0)\n",
    "\n",
    "# Initialize KNN classifier\n",
    "knn = KNeighborsClassifier(n_neighbors=1)\n",
    "\n",
    "# Train the model\n",
    "knn.fit(X_train, y_train)\n",
    "\n",
    "# Predict for test data\n",
    "for i in range(len(X_test)):\n",
    "    x = X_test[i]\n",
    "    x_new = np.array([x])\n",
    "    prediction = knn.predict(x_new)\n",
    "    \n",
    "    print(f\"TARGET: {y_test[i]} PREDICTED: [{dataset['target_names'][prediction][0]}]\")\n"
   ]
  },
  {
   "cell_type": "code",
   "execution_count": null,
   "id": "6a56627b-7b41-4b66-8599-4f5a54dab62e",
   "metadata": {},
   "outputs": [],
   "source": []
  }
 ],
 "metadata": {
  "kernelspec": {
   "display_name": "Python [conda env:base] *",
   "language": "python",
   "name": "conda-base-py"
  },
  "language_info": {
   "codemirror_mode": {
    "name": "ipython",
    "version": 3
   },
   "file_extension": ".py",
   "mimetype": "text/x-python",
   "name": "python",
   "nbconvert_exporter": "python",
   "pygments_lexer": "ipython3",
   "version": "3.12.7"
  }
 },
 "nbformat": 4,
 "nbformat_minor": 5
}
