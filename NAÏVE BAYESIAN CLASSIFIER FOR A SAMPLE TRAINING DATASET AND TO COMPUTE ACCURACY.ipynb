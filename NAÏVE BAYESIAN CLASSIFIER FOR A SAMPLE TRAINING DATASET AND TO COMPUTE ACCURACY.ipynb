{
 "cells": [
  {
   "cell_type": "code",
   "execution_count": 1,
   "id": "248272df-f8e5-45a1-82c8-e7806601c591",
   "metadata": {},
   "outputs": [
    {
     "name": "stdout",
     "output_type": "stream",
     "text": [
      "The first 5 values of data are:\n",
      "   Day   Outlook Temprature Humidity    Wind Play_Tennis\n",
      "0  D1     Sunny        Hot     High    Weak          No\n",
      "1  D2     Sunny        Hot     High  Strong          No\n",
      "2  D3  Overcast        Hot     High    Weak         Yes\n",
      "3  D4      Rain       Mild     High    Weak         Yes\n",
      "4  D5      Rain       Cool   Normal    Weak         Yes\n"
     ]
    }
   ],
   "source": [
    "import pandas as pd\n",
    "from sklearn.model_selection import train_test_split\n",
    "from sklearn.preprocessing import LabelEncoder\n",
    "from sklearn.naive_bayes import GaussianNB\n",
    "from sklearn.metrics import accuracy_score\n",
    "\n",
    "# Load dataset\n",
    "data = pd.read_csv(r\"C:\\Users\\esusa\\Downloads\\Play Tennis.csv\")\n",
    "print(\"The first 5 values of data are:\\n\", data.head())"
   ]
  },
  {
   "cell_type": "code",
   "execution_count": 5,
   "id": "1e661fce-f4f0-4a87-8431-e0d7ef81cb45",
   "metadata": {},
   "outputs": [
    {
     "name": "stdout",
     "output_type": "stream",
     "text": [
      "\n",
      "The First 5 values of train data is:\n",
      "   Day   Outlook Temprature Humidity    Wind\n",
      "0  D1     Sunny        Hot     High    Weak\n",
      "1  D2     Sunny        Hot     High  Strong\n",
      "2  D3  Overcast        Hot     High    Weak\n",
      "3  D4      Rain       Mild     High    Weak\n",
      "4  D5      Rain       Cool   Normal    Weak\n"
     ]
    }
   ],
   "source": [
    "X = data.iloc[:, :-1]  # All columns except last\n",
    "y = data.iloc[:, -1]   # Last column as output\n",
    "\n",
    "print(\"\\nThe First 5 values of train data is:\\n\", X.head())"
   ]
  },
  {
   "cell_type": "code",
   "execution_count": 14,
   "id": "43b47c68-5585-4191-8445-7de2205fc2b4",
   "metadata": {},
   "outputs": [
    {
     "name": "stdout",
     "output_type": "stream",
     "text": [
      "\n",
      "The First 5 values of train data after encoding is:\n",
      "    Day  Outlook  Temprature  Humidity  Wind\n",
      "0    0        2           1         0     1\n",
      "1    6        2           1         0     0\n",
      "2    7        0           1         0     1\n",
      "3    8        1           2         0     1\n",
      "4    9        1           0         1     1\n",
      "\n",
      "The First 5 values of train output y are:\n",
      " [0 0 1 1 1]\n"
     ]
    }
   ],
   "source": [
    "# Encoding categorical features\n",
    "# Obtain Train data and Train output\n",
    "X = data.iloc[:, :-1].copy()  # All columns except last (features)\n",
    "y = data.iloc[:, -1]   # Last column as output\n",
    "\n",
    "# Encoding categorical features\n",
    "label_encoder = LabelEncoder()\n",
    "for column in X.columns:\n",
    "    X[column] = label_encoder.fit_transform(X[column])  # No more warning\n",
    "\n",
    "y = label_encoder.fit_transform(y)\n",
    "\n",
    "\n",
    "print(\"\\nThe First 5 values of train data after encoding is:\\n\", X.head())\n",
    "print(\"\\nThe First 5 values of train output y are:\\n\", y[:5])\n",
    "\n"
   ]
  },
  {
   "cell_type": "code",
   "execution_count": 16,
   "id": "eadc86df-4b8b-48bf-8318-8069fbe79621",
   "metadata": {},
   "outputs": [
    {
     "name": "stdout",
     "output_type": "stream",
     "text": [
      "\n",
      "The Train data is:\n",
      "     Day  Outlook  Temprature  Humidity  Wind\n",
      "2     7        0           1         0     1\n",
      "10    2        2           2         1     0\n",
      "4     9        1           0         1     1\n",
      "1     6        2           1         0     0\n",
      "12    4        0           1         1     1\n",
      "0     0        2           1         0     1\n",
      "13    5        1           2         0     0\n",
      "9     1        1           2         1     1\n",
      "8    13        2           0         1     1\n",
      "11    3        0           2         0     0\n",
      "5    10        1           0         1     0\n",
      "\n",
      "The Train output is:\n",
      " [1 1 1 0 1 0 0 1 1 1 0]\n",
      "\n",
      "Predicted values are:\n",
      " [1 1 1]\n"
     ]
    }
   ],
   "source": [
    "X_train, X_test, y_train, y_test = train_test_split(X, y, test_size=0.2, random_state=1)\n",
    "\n",
    "print(\"\\nThe Train data is:\\n\", X_train)\n",
    "print(\"\\nThe Train output is:\\n\", y_train)\n",
    "\n",
    "# Train Naïve Bayes Classifier\n",
    "classifier = GaussianNB()\n",
    "classifier.fit(X_train, y_train)\n",
    "\n",
    "# Predict on test data\n",
    "y_pred = classifier.predict(X_test)\n",
    "\n",
    "# Accuracy score\n",
    "print(\"\\nPredicted values are:\\n\", y_pred)\n"
   ]
  },
  {
   "cell_type": "code",
   "execution_count": 18,
   "id": "951bd2c6-3b22-4a87-8ac1-335fe69a6cde",
   "metadata": {},
   "outputs": [
    {
     "name": "stdout",
     "output_type": "stream",
     "text": [
      "\n",
      "Accuracy is: 0.6666666666666666\n"
     ]
    }
   ],
   "source": [
    "print(\"\\nAccuracy is:\", accuracy_score(y_test, y_pred))"
   ]
  },
  {
   "cell_type": "code",
   "execution_count": null,
   "id": "bf8327aa-afba-4df2-9e6a-5e4dcb3ae34e",
   "metadata": {},
   "outputs": [],
   "source": []
  }
 ],
 "metadata": {
  "kernelspec": {
   "display_name": "Python [conda env:base] *",
   "language": "python",
   "name": "conda-base-py"
  },
  "language_info": {
   "codemirror_mode": {
    "name": "ipython",
    "version": 3
   },
   "file_extension": ".py",
   "mimetype": "text/x-python",
   "name": "python",
   "nbconvert_exporter": "python",
   "pygments_lexer": "ipython3",
   "version": "3.12.7"
  }
 },
 "nbformat": 4,
 "nbformat_minor": 5
}
